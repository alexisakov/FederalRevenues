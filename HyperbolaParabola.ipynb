{
  "nbformat": 4,
  "nbformat_minor": 0,
  "metadata": {
    "colab": {
      "name": "HyperbolaParabola.ipynb",
      "provenance": [],
      "authorship_tag": "ABX9TyNYiHKLu0lBdfheHAcCjNZS",
      "include_colab_link": true
    },
    "kernelspec": {
      "name": "python3",
      "display_name": "Python 3"
    },
    "language_info": {
      "name": "python"
    }
  },
  "cells": [
    {
      "cell_type": "markdown",
      "metadata": {
        "id": "view-in-github",
        "colab_type": "text"
      },
      "source": [
        "<a href=\"https://colab.research.google.com/github/alexisakov/FederalRevenues/blob/master/HyperbolaParabola.ipynb\" target=\"_parent\"><img src=\"https://colab.research.google.com/assets/colab-badge.svg\" alt=\"Open In Colab\"/></a>"
      ]
    },
    {
      "cell_type": "markdown",
      "metadata": {
        "id": "9Rb3oX3rPCQH"
      },
      "source": [
        "# \t(Very) Technical Brief Geometry of the Fiscal Rule: Hyperbola or Parabola?\n",
        "\n"
      ]
    },
    {
      "cell_type": "markdown",
      "metadata": {
        "id": "X10nzBy0XnDU"
      },
      "source": [
        "In this online appendix we will recreate a key chart from the technical brief: the ratio of MinFin's FX purchases to oil export revenues.\n",
        "\n",
        "All calculations are done for illustrative purposes - the schematically replicate Russia's oil taxation system for an economy that produces 1 ton of oil and export 0.5 tons. "
      ]
    },
    {
      "cell_type": "markdown",
      "metadata": {
        "id": "yD4xMO5lPMOk"
      },
      "source": [
        "## Preliminaries"
      ]
    },
    {
      "cell_type": "markdown",
      "metadata": {
        "id": "_Mij2AXVYGjc"
      },
      "source": [
        "Import libs."
      ]
    },
    {
      "cell_type": "code",
      "metadata": {
        "id": "GdFQk1SCPKJx"
      },
      "source": [
        "#This uses the same mechanisms. \n",
        "%matplotlib inline\n",
        "\n",
        "import seaborn as sns\n",
        "sns.set(color_codes=True)\n",
        "import pandas as pd"
      ],
      "execution_count": 45,
      "outputs": []
    },
    {
      "cell_type": "markdown",
      "metadata": {
        "id": "3Xf0yL7wPkS6"
      },
      "source": [
        "## Schematic oil taxation"
      ]
    },
    {
      "cell_type": "markdown",
      "metadata": {
        "id": "FzrwoiQ2YNp8"
      },
      "source": [
        "Set various constants and parameters:"
      ]
    },
    {
      "cell_type": "code",
      "metadata": {
        "id": "zJx0SZHwPBYn"
      },
      "source": [
        "baseoilprice = 40; # baseline oil price\n",
        "oilpj = 60.3; # oil price behind budget parameters // expected oil price  \n",
        "estUSDRUB = 73; # expected USDRUB\n",
        "ton2barrel = 7.33 # ton to barrel conversion factor\n",
        "METBaseRate = 919; \n",
        "METKk = 428;\n",
        "METKkorr = 0.5;"
      ],
      "execution_count": 46,
      "outputs": []
    },
    {
      "cell_type": "markdown",
      "metadata": {
        "id": "ggUU-zJwP1SX"
      },
      "source": [
        "### MET"
      ]
    },
    {
      "cell_type": "markdown",
      "metadata": {
        "id": "csXyDUxgYktC"
      },
      "source": [
        "Mineral extraction tax:"
      ]
    },
    {
      "cell_type": "code",
      "metadata": {
        "id": "CeD5nh2CP0Xm"
      },
      "source": [
        "Кц = lambda oilprice, USDRUB :(oilprice - 15) * USDRUB/261"
      ],
      "execution_count": 47,
      "outputs": []
    },
    {
      "cell_type": "code",
      "metadata": {
        "id": "C6LzIm0ZQRtB"
      },
      "source": [
        "METPart1 = lambda oilprice, USDRUB: METBaseRate* Кц(oilprice, USDRUB)"
      ],
      "execution_count": 48,
      "outputs": []
    },
    {
      "cell_type": "code",
      "metadata": {
        "id": "rUmp96CcQghd"
      },
      "source": [
        "def ЭП(oilprice):\n",
        "  if oilprice < 109.5/ton2barrel:\n",
        "    return 0,\n",
        "  elif oilprice < 146/ton2barrel:\n",
        "    return 0.35*(oilprice*ton2barrel - 109.5)\n",
        "  elif oilprice < 182.5/ton2barrel:\n",
        "    return 12.78 + 0.45*(oilprice*ton2barrel - 146)\n",
        "  else:\n",
        "    return 29.2 + 0.3*(oilprice*ton2barrel - 182.3)"
      ],
      "execution_count": 49,
      "outputs": []
    },
    {
      "cell_type": "code",
      "metadata": {
        "id": "rZySWQ-HQ5yc"
      },
      "source": [
        "Кман = lambda oilprice, USDRUB : ЭП(oilprice)*USDRUB*METKkorr"
      ],
      "execution_count": 50,
      "outputs": []
    },
    {
      "cell_type": "code",
      "metadata": {
        "id": "TJ5_Eb78RFBq"
      },
      "source": [
        "Дм = lambda oilprice, USDRUB : METKk - Кман(oilprice, USDRUB)"
      ],
      "execution_count": 51,
      "outputs": []
    },
    {
      "cell_type": "code",
      "metadata": {
        "id": "p9Gs-Rp1RKXR"
      },
      "source": [
        "MET = lambda extractionVolume, oilprice, USDRUB: extractionVolume*(METPart1(oilprice, USDRUB) - Дм(oilprice, USDRUB))"
      ],
      "execution_count": 52,
      "outputs": []
    },
    {
      "cell_type": "code",
      "metadata": {
        "colab": {
          "base_uri": "https://localhost:8080/"
        },
        "id": "QfH5RF2IRUi4",
        "outputId": "22ea4f35-1a9c-4ec2-89e3-f40fcb8d4b63"
      },
      "source": [
        "MET(1,70,73)"
      ],
      "execution_count": 53,
      "outputs": [
        {
          "output_type": "execute_result",
          "data": {
            "text/plain": [
              "18397.167279693487"
            ]
          },
          "metadata": {
            "tags": []
          },
          "execution_count": 53
        }
      ]
    },
    {
      "cell_type": "markdown",
      "metadata": {
        "id": "3tcogGQYRff_"
      },
      "source": [
        "### Export duty"
      ]
    },
    {
      "cell_type": "markdown",
      "metadata": {
        "id": "9z_ZpYcoYood"
      },
      "source": [
        "Export duty:"
      ]
    },
    {
      "cell_type": "code",
      "metadata": {
        "id": "F3Jy0zUpRb57"
      },
      "source": [
        "EDKkorr = 0.5;\n",
        "EDuty = 0.3;"
      ],
      "execution_count": 54,
      "outputs": []
    },
    {
      "cell_type": "code",
      "metadata": {
        "id": "GCmjmdEORjCb"
      },
      "source": [
        "edRate = lambda oilprice, USDRUB : (29.2 + EDuty*(oilprice*ton2barrel - 182.5))*USDRUB*EDKkorr"
      ],
      "execution_count": 55,
      "outputs": []
    },
    {
      "cell_type": "code",
      "metadata": {
        "id": "ZAsgK3DORsf1"
      },
      "source": [
        "ED = lambda exportVolume, oilprice, USDRUB : exportVolume*edRate(oilprice, USDRUB)"
      ],
      "execution_count": 56,
      "outputs": []
    },
    {
      "cell_type": "markdown",
      "metadata": {
        "id": "5H-gYSekS6nD"
      },
      "source": [
        "### Oil taxation under Fiscal rule: Base and Excess Revenues"
      ]
    },
    {
      "cell_type": "markdown",
      "metadata": {
        "id": "eECOx5r0Yq5A"
      },
      "source": [
        "Total oil budget revenue is a total of MET and ED:"
      ]
    },
    {
      "cell_type": "code",
      "metadata": {
        "id": "oWLNovQ2S3RG"
      },
      "source": [
        "oilgasrevenue = lambda extractionVolume, exportVolume, oilprice, USDRUB : MET(extractionVolume, oilprice, USDRUB) + ED(exportVolume, oilprice, USDRUB)"
      ],
      "execution_count": 57,
      "outputs": []
    },
    {
      "cell_type": "markdown",
      "metadata": {
        "id": "VN6Ng3xlTOey"
      },
      "source": [
        "Now we can define excess revenu (=FX purchases) as follows:"
      ]
    },
    {
      "cell_type": "code",
      "metadata": {
        "id": "rt_D_EccTMzw"
      },
      "source": [
        "excessrevenue = lambda extractionVolume, exportVolume, oilprice, USDRUB: oilgasrevenue(extractionVolume, exportVolume, oilprice, USDRUB) - oilgasrevenue(\n",
        "    extractionVolume, exportVolume, baseoilprice, USDRUB)"
      ],
      "execution_count": 58,
      "outputs": []
    },
    {
      "cell_type": "markdown",
      "metadata": {
        "id": "xbCGTgM_Tk3N"
      },
      "source": [
        "Additionally let us define oil export revenue"
      ]
    },
    {
      "cell_type": "code",
      "metadata": {
        "id": "z9kBqEtoTd3z"
      },
      "source": [
        "exportrevenue = lambda exportVolume, oilprice, USDRUB: exportVolume*oilprice*USDRUB*ton2barrel"
      ],
      "execution_count": 59,
      "outputs": []
    },
    {
      "cell_type": "markdown",
      "metadata": {
        "id": "pK3bWxFQTvEP"
      },
      "source": [
        "## Chart - Relative export revenue neutralization"
      ]
    },
    {
      "cell_type": "markdown",
      "metadata": {
        "id": "ualeMmSDT4xX"
      },
      "source": [
        "We attempt to calculate the ration of\n",
        "\n",
        "*   export revenue in USD\n",
        "*   to excess oil budget revenue = MinFin's FX purchases\n",
        "\n",
        "for an economy that \n",
        "\n",
        "*   produces 1 ton of oil, \n",
        "*   export 0.5 ton of oil \n",
        "*   and has a RUB/oil sensitivity of 0.1."
      ]
    },
    {
      "cell_type": "code",
      "metadata": {
        "id": "1GFdUizsUlhU"
      },
      "source": [
        "x = list(range(20,150,1))"
      ],
      "execution_count": 60,
      "outputs": []
    },
    {
      "cell_type": "code",
      "metadata": {
        "id": "vIlzDzHyWFNm"
      },
      "source": [
        "druboil = 0.1"
      ],
      "execution_count": 61,
      "outputs": []
    },
    {
      "cell_type": "code",
      "metadata": {
        "id": "O82FOyXxIFml"
      },
      "source": [
        "excessrevenue2 = lambda extractionVolume, exportVolume, oilprice, USDRUB: oilgasrevenue(extractionVolume, exportVolume, oilprice, USDRUB) - oilgasrevenue(\n",
        "    extractionVolume, exportVolume, baseoilprice, estUSDRUB)"
      ],
      "execution_count": 62,
      "outputs": []
    },
    {
      "cell_type": "code",
      "metadata": {
        "id": "kXFuPAyoTtAp"
      },
      "source": [
        "y = [excessrevenue(1.0, 0.5, oil, 73*(1 - druboil*(oil/oilpj - 1)))/exportrevenue(0.5, oil, 73*(1 - druboil*(oil/oilpj - 1))) for oil in x]"
      ],
      "execution_count": 63,
      "outputs": []
    },
    {
      "cell_type": "code",
      "metadata": {
        "id": "HuUylUH9IwoH"
      },
      "source": [
        "df = pd.DataFrame(list(zip(x, y)),columns=['oil price','FX purchases, % export revenue'])"
      ],
      "execution_count": 64,
      "outputs": []
    },
    {
      "cell_type": "code",
      "metadata": {
        "colab": {
          "base_uri": "https://localhost:8080/",
          "height": 302
        },
        "id": "S6GuEV9LVnZu",
        "outputId": "b31bf4bd-0338-4a55-91d4-47cd8f19a0dc"
      },
      "source": [
        "sns.lineplot(x = 'oil price', y = 'FX purchases, % export revenue', data=df)"
      ],
      "execution_count": 65,
      "outputs": [
        {
          "output_type": "execute_result",
          "data": {
            "text/plain": [
              "<matplotlib.axes._subplots.AxesSubplot at 0x7f662cba5890>"
            ]
          },
          "metadata": {
            "tags": []
          },
          "execution_count": 65
        },
        {
          "output_type": "display_data",
          "data": {
            "image/png": "[encoded data removed]",
            "text/plain": [
              "<Figure size 432x288 with 1 Axes>"
            ]
          },
          "metadata": {
            "tags": []
          }
        }
      ]
    },
    {
      "cell_type": "markdown",
      "metadata": {
        "id": "0UWJHFWzYxGz"
      },
      "source": [
        "So everything checks out - MinFin's FX purchases approach 100% of oil export revenue as oil price approaches USD150/bbl."
      ]
    },
    {
      "cell_type": "code",
      "metadata": {
        "id": "jM1_zPhxN1R9"
      },
      "source": [
        ""
      ],
      "execution_count": 65,
      "outputs": []
    }
  ]
}