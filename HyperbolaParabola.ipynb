{
  "nbformat": 4,
  "nbformat_minor": 0,
  "metadata": {
    "colab": {
      "name": "HyperbolaParabola.ipynb",
      "provenance": [],
      "authorship_tag": "ABX9TyMIsaKeiA8DmrchpETonZMq",
      "include_colab_link": true
    },
    "kernelspec": {
      "name": "python3",
      "display_name": "Python 3"
    },
    "language_info": {
      "name": "python"
    }
  },
  "cells": [
    {
      "cell_type": "markdown",
      "metadata": {
        "id": "view-in-github",
        "colab_type": "text"
      },
      "source": [
        "<a href=\"https://colab.research.google.com/github/alexisakov/FederalRevenues/blob/master/HyperbolaParabola.ipynb\" target=\"_parent\"><img src=\"https://colab.research.google.com/assets/colab-badge.svg\" alt=\"Open In Colab\"/></a>"
      ]
    },
    {
      "cell_type": "markdown",
      "metadata": {
        "id": "9Rb3oX3rPCQH"
      },
      "source": [
        "# \t(Very) Technical Brief Geometry of the Fiscal Rule: Hyperbola or Parabola?\n",
        "\n"
      ]
    },
    {
      "cell_type": "markdown",
      "metadata": {
        "id": "X10nzBy0XnDU"
      },
      "source": [
        "In this online appendix we will recreate a key chart from the technical brief: the ratio of MinFin's FX purchases to oil export revenues.\n",
        "\n",
        "All calculations are done for illustrative purposes - they schematically replicate Russia's oil taxation system for an economy that produces 1 ton of oil and export 0.5 tons. "
      ]
    },
    {
      "cell_type": "markdown",
      "metadata": {
        "id": "yD4xMO5lPMOk"
      },
      "source": [
        "## Preliminaries"
      ]
    },
    {
      "cell_type": "markdown",
      "metadata": {
        "id": "_Mij2AXVYGjc"
      },
      "source": [
        "Import libs."
      ]
    },
    {
      "cell_type": "code",
      "metadata": {
        "id": "GdFQk1SCPKJx"
      },
      "source": [
        "#This uses the same mechanisms. \n",
        "\n",
        "import seaborn as sns\n",
        "sns.set(color_codes=True)\n",
        "import pandas as pd"
      ],
      "execution_count": 3,
      "outputs": []
    },
    {
      "cell_type": "markdown",
      "metadata": {
        "id": "jl588JHMA215"
      },
      "source": [
        "## Oil and gas export revenue"
      ]
    },
    {
      "cell_type": "markdown",
      "metadata": {
        "id": "HD5hdhFrA91x"
      },
      "source": [
        "Relationship between oil and gas exports and oil price x output is historically stable - so we can write an estimated export revenue in RUB function as follows:"
      ]
    },
    {
      "cell_type": "code",
      "metadata": {
        "id": "JSMDmdFdBUq5"
      },
      "source": [
        "m = 0.00649369 # constant\n",
        "exportrevenue = lambda extractionVolume, exportRatio, oilprice, USDRUB : (exportRatio/0.75)*m*extractionVolume*oilprice*USDRUB"
      ],
      "execution_count": 4,
      "outputs": []
    },
    {
      "cell_type": "markdown",
      "metadata": {
        "id": "GmRL5bPQB54A"
      },
      "source": [
        "*    extractionVolume - oil output (inc. condensate), mn ton\n",
        "*    exportRatio - % share of oil output exported as crude + petroleum products - 75% is a crudle proxy to historical norm\n",
        "*    oilprice - oil price, USD/bbl\n",
        "\n",
        "Sanity check: In 2020 oil output is 512 mn ton, average oil price is 42.7 - total oil and gas exports (ex. LNG) should total USD 143bn (USDRUB @ 71.9):\n"
      ]
    },
    {
      "cell_type": "code",
      "metadata": {
        "colab": {
          "base_uri": "https://localhost:8080/"
        },
        "id": "Hj3Khcg1B1kL",
        "outputId": "e02bd97c-e919-4f90-f96a-0be48ded93c8"
      },
      "source": [
        "exportrevenue(512,0.75,42.7,71.9)/71.9 # devide by USDRUB to get bn USD"
      ],
      "execution_count": 5,
      "outputs": [
        {
          "output_type": "execute_result",
          "data": {
            "text/plain": [
              "141.96764825600002"
            ]
          },
          "metadata": {
            "tags": []
          },
          "execution_count": 5
        }
      ]
    },
    {
      "cell_type": "markdown",
      "metadata": {
        "id": "uEkX4PO9Ek4w"
      },
      "source": [
        "Good enough."
      ]
    },
    {
      "cell_type": "markdown",
      "metadata": {
        "id": "3Xf0yL7wPkS6"
      },
      "source": [
        "## Schematic oil taxation"
      ]
    },
    {
      "cell_type": "markdown",
      "metadata": {
        "id": "FzrwoiQ2YNp8"
      },
      "source": [
        "Set various constants and parameters:"
      ]
    },
    {
      "cell_type": "code",
      "metadata": {
        "id": "zJx0SZHwPBYn"
      },
      "source": [
        "baseoilprice = 40; # baseline oil price\n",
        "oilpj = 60.3; # oil price behind budget parameters // expected oil price  \n",
        "estUSDRUB = 73; # expected USDRUB\n",
        "ton2barrel = 7.33 # ton to barrel conversion factor"
      ],
      "execution_count": 6,
      "outputs": []
    },
    {
      "cell_type": "markdown",
      "metadata": {
        "id": "mefV5bRkeihi"
      },
      "source": [
        "This is toy example - does not capture true complexity of the tax scheme and loosely approximates 2020 parameters - which are themselves drifting."
      ]
    },
    {
      "cell_type": "markdown",
      "metadata": {
        "id": "ggUU-zJwP1SX"
      },
      "source": [
        "### MET"
      ]
    },
    {
      "cell_type": "markdown",
      "metadata": {
        "id": "csXyDUxgYktC"
      },
      "source": [
        "Mineral extraction tax:"
      ]
    },
    {
      "cell_type": "code",
      "metadata": {
        "id": "lHHvUrhuKBCm"
      },
      "source": [
        "METBaseRate = 919; \n",
        "METKk = 428;\n",
        "METKkorr = 0.33;"
      ],
      "execution_count": 7,
      "outputs": []
    },
    {
      "cell_type": "code",
      "metadata": {
        "id": "CeD5nh2CP0Xm"
      },
      "source": [
        "Кц = lambda oilprice, USDRUB :(oilprice - 15) * USDRUB/261"
      ],
      "execution_count": 8,
      "outputs": []
    },
    {
      "cell_type": "code",
      "metadata": {
        "id": "C6LzIm0ZQRtB"
      },
      "source": [
        "METPart1 = lambda oilprice, USDRUB: METBaseRate* Кц(oilprice, USDRUB)"
      ],
      "execution_count": 9,
      "outputs": []
    },
    {
      "cell_type": "code",
      "metadata": {
        "id": "rUmp96CcQghd"
      },
      "source": [
        "def ЭП(oilprice):\n",
        "  if oilprice < 109.5/ton2barrel:\n",
        "    return 0,\n",
        "  elif oilprice < 146/ton2barrel:\n",
        "    return 0.35*(oilprice*ton2barrel - 109.5)\n",
        "  elif oilprice < 182.5/ton2barrel:\n",
        "    return 12.78 + 0.45*(oilprice*ton2barrel - 146)\n",
        "  else:\n",
        "    return 29.2 + 0.3*(oilprice*ton2barrel - 182.3)"
      ],
      "execution_count": 10,
      "outputs": []
    },
    {
      "cell_type": "code",
      "metadata": {
        "id": "rZySWQ-HQ5yc"
      },
      "source": [
        "Кман = lambda oilprice, USDRUB : ЭП(oilprice)*USDRUB*METKkorr"
      ],
      "execution_count": 11,
      "outputs": []
    },
    {
      "cell_type": "code",
      "metadata": {
        "id": "TJ5_Eb78RFBq"
      },
      "source": [
        "Дм = lambda oilprice, USDRUB : METKk - Кман(oilprice, USDRUB)"
      ],
      "execution_count": 12,
      "outputs": []
    },
    {
      "cell_type": "code",
      "metadata": {
        "id": "agzWZg81KJrQ"
      },
      "source": [
        "METTheory = lambda extractionVolume, oilprice, USDRUB: extractionVolume*(METPart1(oilprice, USDRUB) - Дм(oilprice, USDRUB))"
      ],
      "execution_count": 13,
      "outputs": []
    },
    {
      "cell_type": "markdown",
      "metadata": {
        "id": "k8J4ggKvKN1v"
      },
      "source": [
        "Effective MET collection:"
      ]
    },
    {
      "cell_type": "code",
      "metadata": {
        "id": "QfH5RF2IRUi4"
      },
      "source": [
        "METCollectionRate = 0.90;\n",
        "MET = lambda extractionVolume, oilprice, USDRUB : METCollectionRate*METTheory(extractionVolume, oilprice, USDRUB) / 1000"
      ],
      "execution_count": 14,
      "outputs": []
    },
    {
      "cell_type": "markdown",
      "metadata": {
        "id": "f0toj5c8LQ2f"
      },
      "source": [
        "Sanity check: MET corresponding to 2020 oil output (MET is paid with 1 month shift, so this total is for Feb'20-Jan'21) - should be RUB 3766bn:"
      ]
    },
    {
      "cell_type": "code",
      "metadata": {
        "colab": {
          "base_uri": "https://localhost:8080/"
        },
        "id": "uUSbzpPwKer2",
        "outputId": "ba66c28e-8cc5-4f68-d956-66bd4da37c20"
      },
      "source": [
        "MET(512,42.7,71.9)"
      ],
      "execution_count": 15,
      "outputs": [
        {
          "output_type": "execute_result",
          "data": {
            "text/plain": [
              "3782.142361340647"
            ]
          },
          "metadata": {
            "tags": []
          },
          "execution_count": 15
        }
      ]
    },
    {
      "cell_type": "markdown",
      "metadata": {
        "id": "0baGAkfGLlqn"
      },
      "source": [
        "Good enough."
      ]
    },
    {
      "cell_type": "markdown",
      "metadata": {
        "id": "3tcogGQYRff_"
      },
      "source": [
        "### Export duty"
      ]
    },
    {
      "cell_type": "markdown",
      "metadata": {
        "id": "9z_ZpYcoYood"
      },
      "source": [
        "Export duty parameters:"
      ]
    },
    {
      "cell_type": "code",
      "metadata": {
        "id": "F3Jy0zUpRb57"
      },
      "source": [
        "EDKkorr = 0.67;\n",
        "EDuty = 0.3;"
      ],
      "execution_count": 16,
      "outputs": []
    },
    {
      "cell_type": "code",
      "metadata": {
        "id": "GCmjmdEORjCb"
      },
      "source": [
        "edRate = lambda oilprice, USDRUB : (29.2 + EDuty*(oilprice*ton2barrel - 182.5))*USDRUB*EDKkorr"
      ],
      "execution_count": 17,
      "outputs": []
    },
    {
      "cell_type": "code",
      "metadata": {
        "id": "ZAsgK3DORsf1"
      },
      "source": [
        "EDTheory = lambda extractionVolume, exportRatio, oilprice, USDRUB : extractionVolume*exportRatio*edRate(oilprice, USDRUB)"
      ],
      "execution_count": 18,
      "outputs": []
    },
    {
      "cell_type": "code",
      "metadata": {
        "id": "QPayI5X8cEBy"
      },
      "source": [
        "EDCollectionRate = 0.80;\n",
        "ED = lambda extractionVolume, exportRatio, oilprice, USDRUB : EDCollectionRate*EDTheory(extractionVolume, exportRatio, oilprice, USDRUB) / 1000"
      ],
      "execution_count": 19,
      "outputs": []
    },
    {
      "cell_type": "markdown",
      "metadata": {
        "id": "Q5VEfI5QeKuJ"
      },
      "source": [
        "Sanity check, should be RUB 1148bn"
      ]
    },
    {
      "cell_type": "code",
      "metadata": {
        "colab": {
          "base_uri": "https://localhost:8080/"
        },
        "id": "ZlrPUcRKcD-s",
        "outputId": "f45b8b44-baf6-4771-cc68-8bddabcfbf1c"
      },
      "source": [
        "ED(512, 0.75, 42.7,71.9)"
      ],
      "execution_count": 20,
      "outputs": [
        {
          "output_type": "execute_result",
          "data": {
            "text/plain": [
              "1011.4543051468801"
            ]
          },
          "metadata": {
            "tags": []
          },
          "execution_count": 20
        }
      ]
    },
    {
      "cell_type": "markdown",
      "metadata": {
        "id": "ZzzkdswHeRiP"
      },
      "source": [
        "Good enough."
      ]
    },
    {
      "cell_type": "markdown",
      "metadata": {
        "id": "v9uw4tbDe2Ta"
      },
      "source": [
        "### Gather taxes"
      ]
    },
    {
      "cell_type": "code",
      "metadata": {
        "id": "rcSFU53Fe9xO"
      },
      "source": [
        "oilgasrevenue = lambda extractionVolume, exportRatio, oilprice, USDRUB : MET(extractionVolume, oilprice, USDRUB) + ED(extractionVolume,exportRatio,oilprice, USDRUB)"
      ],
      "execution_count": 21,
      "outputs": []
    },
    {
      "cell_type": "markdown",
      "metadata": {
        "id": "5H-gYSekS6nD"
      },
      "source": [
        "### Oil taxation under Fiscal rule: Base and Excess Revenues"
      ]
    },
    {
      "cell_type": "markdown",
      "metadata": {
        "id": "eECOx5r0Yq5A"
      },
      "source": [
        "Total oil budget revenue is a total of MET and ED:"
      ]
    },
    {
      "cell_type": "markdown",
      "metadata": {
        "id": "VN6Ng3xlTOey"
      },
      "source": [
        "Now we can define excess revenu (=FX purchases) as follows:"
      ]
    },
    {
      "cell_type": "code",
      "metadata": {
        "id": "rt_D_EccTMzw"
      },
      "source": [
        "excessrevenue = lambda extractionVolume, exportRatio, oilprice, USDRUB: oilgasrevenue(extractionVolume, exportRatio, oilprice, USDRUB) - oilgasrevenue(\n",
        "    extractionVolume, exportRatio, baseoilprice, USDRUB)"
      ],
      "execution_count": 22,
      "outputs": []
    },
    {
      "cell_type": "markdown",
      "metadata": {
        "id": "pK3bWxFQTvEP"
      },
      "source": [
        "## Chart - Relative export revenue neutralization"
      ]
    },
    {
      "cell_type": "markdown",
      "metadata": {
        "id": "ualeMmSDT4xX"
      },
      "source": [
        "We attempt to calculate the ration of\n",
        "\n",
        "*   export revenue in USD\n",
        "*   to excess oil budget revenue = MinFin's FX purchases\n",
        "\n",
        "for an economy that \n",
        "\n",
        "*   produces 1 ton of oil, \n",
        "*   export 0.5 ton of oil \n",
        "*   and has a RUB/oil sensitivity of 0.1."
      ]
    },
    {
      "cell_type": "code",
      "metadata": {
        "id": "1GFdUizsUlhU"
      },
      "source": [
        "x = list(range(20,200,1))"
      ],
      "execution_count": 23,
      "outputs": []
    },
    {
      "cell_type": "code",
      "metadata": {
        "id": "vIlzDzHyWFNm"
      },
      "source": [
        "druboil = 0.07"
      ],
      "execution_count": 24,
      "outputs": []
    },
    {
      "cell_type": "code",
      "metadata": {
        "id": "kXFuPAyoTtAp"
      },
      "source": [
        "y = [excessrevenue(1.0, 0.75, oil, 73*(1 - druboil*(oil/oilpj - 1)))/exportrevenue(1.0, 0.75, oil, 73*(1 - druboil*(oil/oilpj - 1))) for oil in x]"
      ],
      "execution_count": 25,
      "outputs": []
    },
    {
      "cell_type": "code",
      "metadata": {
        "id": "HuUylUH9IwoH"
      },
      "source": [
        "df = pd.DataFrame(list(zip(x, y)),columns=['oil price','FX purchases, % export revenue'])"
      ],
      "execution_count": 26,
      "outputs": []
    },
    {
      "cell_type": "code",
      "metadata": {
        "colab": {
          "base_uri": "https://localhost:8080/",
          "height": 303
        },
        "id": "S6GuEV9LVnZu",
        "outputId": "4bb20216-0c7c-4e7b-f7ec-a79e325dce2b"
      },
      "source": [
        "sns.lineplot(x = 'oil price', y = 'FX purchases, % export revenue', data=df)"
      ],
      "execution_count": 27,
      "outputs": [
        {
          "output_type": "execute_result",
          "data": {
            "text/plain": [
              "<matplotlib.axes._subplots.AxesSubplot at 0x7f90464cac90>"
            ]
          },
          "metadata": {
            "tags": []
          },
          "execution_count": 27
        },
        {
          "output_type": "display_data",
          "data": {
            "image/png": "[encoded data removed]",
            "text/plain": [
              "<Figure size 432x288 with 1 Axes>"
            ]
          },
          "metadata": {
            "tags": []
          }
        }
      ]
    },
    {
      "cell_type": "markdown",
      "metadata": {
        "id": "0UWJHFWzYxGz"
      },
      "source": [
        "MinFin's FX purchases approach 60% of oil export revenue as oil price approaches USD200/bbl."
      ]
    },
    {
      "cell_type": "markdown",
      "metadata": {
        "id": "cTVwrn5Nj39V"
      },
      "source": [
        "Marginal purchases: FX purchases / extra oil and gas export revenue (i.e. revenue - revenue @ USD 40/bbl)"
      ]
    },
    {
      "cell_type": "code",
      "metadata": {
        "id": "jM1_zPhxN1R9"
      },
      "source": [
        "x2x = 0.70\n",
        "x2er = [excessrevenue(1.0, x2x, oil, 73*(1 - druboil*(oil/oilpj - 1))) / exportrevenue(1.0, x2x, oil-40, 73*(1 - druboil*(oil/oilpj - 1))) if exportrevenue(1.0, x2x, oil-40, 73*(1 - druboil*(oil/oilpj - 1))) else 0. for oil in x]"
      ],
      "execution_count": 28,
      "outputs": []
    },
    {
      "cell_type": "code",
      "metadata": {
        "id": "oV2YM3IJS_ry"
      },
      "source": [
        "df = pd.DataFrame(list(zip(x, x2er)),columns=['oil price','FX purchases, % export excess revenue'])"
      ],
      "execution_count": 29,
      "outputs": []
    },
    {
      "cell_type": "code",
      "metadata": {
        "colab": {
          "base_uri": "https://localhost:8080/",
          "height": 315
        },
        "id": "K80-Cd7tTA5T",
        "outputId": "dd994a26-4efd-46cf-f846-94e319caf24e"
      },
      "source": [
        "sns.lineplot(x = 'oil price', y = 'FX purchases, % export excess revenue', data=df)"
      ],
      "execution_count": 30,
      "outputs": [
        {
          "output_type": "execute_result",
          "data": {
            "text/plain": [
              "<matplotlib.axes._subplots.AxesSubplot at 0x7f90461014d0>"
            ]
          },
          "metadata": {
            "tags": []
          },
          "execution_count": 30
        },
        {
          "output_type": "display_data",
          "data": {
            "image/png": "[encoded data removed]",
            "text/plain": [
              "<Figure size 432x288 with 1 Axes>"
            ]
          },
          "metadata": {
            "tags": []
          }
        }
      ]
    },
    {
      "cell_type": "code",
      "metadata": {
        "id": "uH3qD7rNzCPf"
      },
      "source": [
        "x = [a/100 for a in list(range(5,95,1))]\n",
        "x2er = [excessrevenue(1.0, x2x, 70, 73*(1 - druboil*(70/oilpj - 1))) / exportrevenue(1.0, x2x, 70-40, 73*(1 - druboil*(70/oilpj - 1))) if exportrevenue(1.0, x2x, 70-40, 73*(1 - druboil*(70/oilpj - 1))) else 0. for x2x in x]"
      ],
      "execution_count": 41,
      "outputs": []
    },
    {
      "cell_type": "code",
      "metadata": {
        "id": "z6ig5HNezVh4",
        "outputId": "9a44c8a2-3575-4288-f0a9-7281cfe3469e",
        "colab": {
          "base_uri": "https://localhost:8080/",
          "height": 315
        }
      },
      "source": [
        "df = pd.DataFrame(list(zip(x, x2er)),columns=['export / output','FX purchases, % export excess revenue'])\n",
        "sns.lineplot(x = 'export / output', y = 'FX purchases, % export excess revenue', data=df)"
      ],
      "execution_count": 44,
      "outputs": [
        {
          "output_type": "execute_result",
          "data": {
            "text/plain": [
              "<matplotlib.axes._subplots.AxesSubplot at 0x7f9045bfa650>"
            ]
          },
          "metadata": {
            "tags": []
          },
          "execution_count": 44
        },
        {
          "output_type": "display_data",
          "data": {
            "image/png": "[encoded data removed]",
            "text/plain": [
              "<Figure size 432x288 with 1 Axes>"
            ]
          },
          "metadata": {
            "tags": []
          }
        }
      ]
    },
    {
      "cell_type": "markdown",
      "metadata": {
        "id": "h_aPN59RkZSN"
      },
      "source": [
        "So MinFin's FX purchases absorb or compensate a constant share (~2/3) of extra oil and gas export revenue."
      ]
    },
    {
      "cell_type": "markdown",
      "metadata": {
        "id": "zEeFFGXbk0dm"
      },
      "source": [
        "Sensitivities to remember: oil and gas budget revenue sensitivity to oil price change of USD 10/bbl, bn USD/year:"
      ]
    },
    {
      "cell_type": "code",
      "metadata": {
        "colab": {
          "base_uri": "https://localhost:8080/"
        },
        "id": "ESiSANyVWfhC",
        "outputId": "a6ee34d5-b446-4465-e340-98849f8ebfe7"
      },
      "source": [
        "(oilgasrevenue(500,0.75,60,73)-oilgasrevenue(500,0.75,50,73))/73"
      ],
      "execution_count": 31,
      "outputs": [
        {
          "output_type": "execute_result",
          "data": {
            "text/plain": [
              "23.530332586206896"
            ]
          },
          "metadata": {
            "tags": []
          },
          "execution_count": 31
        }
      ]
    },
    {
      "cell_type": "markdown",
      "metadata": {
        "id": "cqYLH6QTlIgk"
      },
      "source": [
        "...export oil and gas revenue revenue sensitivity to oil price change of USD 10/bbl, bn USD/year: "
      ]
    },
    {
      "cell_type": "code",
      "metadata": {
        "colab": {
          "base_uri": "https://localhost:8080/"
        },
        "id": "CdX2LRNOXO-h",
        "outputId": "9a129e36-93ec-4ad2-db4d-ea67a34d645d"
      },
      "source": [
        "(exportrevenue(500, 0.75, 60, 73)-exportrevenue(500, 0.75, 50, 73))/73"
      ],
      "execution_count": 32,
      "outputs": [
        {
          "output_type": "execute_result",
          "data": {
            "text/plain": [
              "32.468449999999976"
            ]
          },
          "metadata": {
            "tags": []
          },
          "execution_count": 32
        }
      ]
    }
  ]
}