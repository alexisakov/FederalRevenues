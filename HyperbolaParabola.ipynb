{
  "nbformat": 4,
  "nbformat_minor": 0,
  "metadata": {
    "colab": {
      "name": "HyperbolaParabola.ipynb",
      "provenance": [],
      "authorship_tag": "ABX9TyMvwX6MgyjTHQMhhhM3bddd",
      "include_colab_link": true
    },
    "kernelspec": {
      "name": "python3",
      "display_name": "Python 3"
    },
    "language_info": {
      "name": "python"
    }
  },
  "cells": [
    {
      "cell_type": "markdown",
      "metadata": {
        "id": "view-in-github",
        "colab_type": "text"
      },
      "source": [
        "<a href=\"https://colab.research.google.com/github/alexisakov/FederalRevenues/blob/master/HyperbolaParabola.ipynb\" target=\"_parent\"><img src=\"https://colab.research.google.com/assets/colab-badge.svg\" alt=\"Open In Colab\"/></a>"
      ]
    },
    {
      "cell_type": "markdown",
      "metadata": {
        "id": "9Rb3oX3rPCQH"
      },
      "source": [
        "# \t(Very) Technical Brief Geometry of the Fiscal Rule: Hyperbola or Parabola?\n",
        "\n"
      ]
    },
    {
      "cell_type": "markdown",
      "metadata": {
        "id": "X10nzBy0XnDU"
      },
      "source": [
        "In this online appendix we will recreate a key chart from the technical brief: the ratio of MinFin's FX purchases to oil export revenues.\n",
        "\n",
        "All calculations are done for illustrative purposes - the schematically replicate Russia's oil taxation system for an economy that produces 1 ton of oil and export 0.5 tons. "
      ]
    },
    {
      "cell_type": "markdown",
      "metadata": {
        "id": "yD4xMO5lPMOk"
      },
      "source": [
        "## Preliminaries"
      ]
    },
    {
      "cell_type": "markdown",
      "metadata": {
        "id": "_Mij2AXVYGjc"
      },
      "source": [
        "Import libs."
      ]
    },
    {
      "cell_type": "code",
      "metadata": {
        "id": "GdFQk1SCPKJx"
      },
      "source": [
        "#This uses the same mechanisms. \n",
        "%matplotlib inline\n",
        "\n",
        "import seaborn as sns\n",
        "sns.set(color_codes=True)\n",
        "import pandas as pd"
      ],
      "execution_count": 67,
      "outputs": []
    },
    {
      "cell_type": "markdown",
      "metadata": {
        "id": "3Xf0yL7wPkS6"
      },
      "source": [
        "## Schematic oil taxation"
      ]
    },
    {
      "cell_type": "markdown",
      "metadata": {
        "id": "FzrwoiQ2YNp8"
      },
      "source": [
        "Set various constants and parameters:"
      ]
    },
    {
      "cell_type": "code",
      "metadata": {
        "id": "zJx0SZHwPBYn"
      },
      "source": [
        "baseoilprice = 40; # baseline oil price\n",
        "oilpj = 60.3; # oil price behind budget parameters // expected oil price  \n",
        "estUSDRUB = 73; # expected USDRUB\n",
        "ton2barrel = 7.33 # ton to barrel conversion factor\n",
        "METBaseRate = 919; \n",
        "METKk = 428;\n",
        "METKkorr = 0.5;"
      ],
      "execution_count": 68,
      "outputs": []
    },
    {
      "cell_type": "markdown",
      "metadata": {
        "id": "ggUU-zJwP1SX"
      },
      "source": [
        "### MET"
      ]
    },
    {
      "cell_type": "markdown",
      "metadata": {
        "id": "csXyDUxgYktC"
      },
      "source": [
        "Mineral extraction tax:"
      ]
    },
    {
      "cell_type": "code",
      "metadata": {
        "id": "CeD5nh2CP0Xm"
      },
      "source": [
        "Кц = lambda oilprice, USDRUB :(oilprice - 15) * USDRUB/261"
      ],
      "execution_count": 69,
      "outputs": []
    },
    {
      "cell_type": "code",
      "metadata": {
        "id": "C6LzIm0ZQRtB"
      },
      "source": [
        "METPart1 = lambda oilprice, USDRUB: METBaseRate* Кц(oilprice, USDRUB)"
      ],
      "execution_count": 70,
      "outputs": []
    },
    {
      "cell_type": "code",
      "metadata": {
        "id": "rUmp96CcQghd"
      },
      "source": [
        "def ЭП(oilprice):\n",
        "  if oilprice < 109.5/ton2barrel:\n",
        "    return 0,\n",
        "  elif oilprice < 146/ton2barrel:\n",
        "    return 0.35*(oilprice*ton2barrel - 109.5)\n",
        "  elif oilprice < 182.5/ton2barrel:\n",
        "    return 12.78 + 0.45*(oilprice*ton2barrel - 146)\n",
        "  else:\n",
        "    return 29.2 + 0.3*(oilprice*ton2barrel - 182.3)"
      ],
      "execution_count": 71,
      "outputs": []
    },
    {
      "cell_type": "code",
      "metadata": {
        "id": "rZySWQ-HQ5yc"
      },
      "source": [
        "Кман = lambda oilprice, USDRUB : ЭП(oilprice)*USDRUB*METKkorr"
      ],
      "execution_count": 72,
      "outputs": []
    },
    {
      "cell_type": "code",
      "metadata": {
        "id": "TJ5_Eb78RFBq"
      },
      "source": [
        "Дм = lambda oilprice, USDRUB : METKk - Кман(oilprice, USDRUB)"
      ],
      "execution_count": 73,
      "outputs": []
    },
    {
      "cell_type": "code",
      "metadata": {
        "id": "p9Gs-Rp1RKXR"
      },
      "source": [
        "MET = lambda extractionVolume, oilprice, USDRUB: extractionVolume*(METPart1(oilprice, USDRUB) - Дм(oilprice, USDRUB))"
      ],
      "execution_count": 74,
      "outputs": []
    },
    {
      "cell_type": "code",
      "metadata": {
        "colab": {
          "base_uri": "https://localhost:8080/"
        },
        "id": "QfH5RF2IRUi4",
        "outputId": "f97e14ef-9151-45b3-c30d-3d74d12e3d9d"
      },
      "source": [
        "MET(1,70,73)"
      ],
      "execution_count": 75,
      "outputs": [
        {
          "output_type": "execute_result",
          "data": {
            "text/plain": [
              "18397.167279693487"
            ]
          },
          "metadata": {
            "tags": []
          },
          "execution_count": 75
        }
      ]
    },
    {
      "cell_type": "markdown",
      "metadata": {
        "id": "3tcogGQYRff_"
      },
      "source": [
        "### Export duty"
      ]
    },
    {
      "cell_type": "markdown",
      "metadata": {
        "id": "9z_ZpYcoYood"
      },
      "source": [
        "Export duty:"
      ]
    },
    {
      "cell_type": "code",
      "metadata": {
        "id": "F3Jy0zUpRb57"
      },
      "source": [
        "EDKkorr = 0.5;\n",
        "EDuty = 0.3;"
      ],
      "execution_count": 76,
      "outputs": []
    },
    {
      "cell_type": "code",
      "metadata": {
        "id": "GCmjmdEORjCb"
      },
      "source": [
        "edRate = lambda oilprice, USDRUB : (29.2 + EDuty*(oilprice*ton2barrel - 182.5))*USDRUB*EDKkorr"
      ],
      "execution_count": 77,
      "outputs": []
    },
    {
      "cell_type": "code",
      "metadata": {
        "id": "ZAsgK3DORsf1"
      },
      "source": [
        "ED = lambda exportVolume, oilprice, USDRUB : exportVolume*edRate(oilprice, USDRUB)"
      ],
      "execution_count": 78,
      "outputs": []
    },
    {
      "cell_type": "markdown",
      "metadata": {
        "id": "5H-gYSekS6nD"
      },
      "source": [
        "### Oil taxation under Fiscal rule: Base and Excess Revenues"
      ]
    },
    {
      "cell_type": "markdown",
      "metadata": {
        "id": "eECOx5r0Yq5A"
      },
      "source": [
        "Total oil budget revenue is a total of MET and ED:"
      ]
    },
    {
      "cell_type": "code",
      "metadata": {
        "id": "oWLNovQ2S3RG"
      },
      "source": [
        "oilgasrevenue = lambda extractionVolume, exportVolume, oilprice, USDRUB : MET(extractionVolume, oilprice, USDRUB) + ED(exportVolume, oilprice, USDRUB)"
      ],
      "execution_count": 79,
      "outputs": []
    },
    {
      "cell_type": "markdown",
      "metadata": {
        "id": "VN6Ng3xlTOey"
      },
      "source": [
        "Now we can define excess revenu (=FX purchases) as follows:"
      ]
    },
    {
      "cell_type": "code",
      "metadata": {
        "id": "rt_D_EccTMzw"
      },
      "source": [
        "excessrevenue = lambda extractionVolume, exportVolume, oilprice, USDRUB: oilgasrevenue(extractionVolume, exportVolume, oilprice, USDRUB) - oilgasrevenue(\n",
        "    extractionVolume, exportVolume, baseoilprice, USDRUB)"
      ],
      "execution_count": 80,
      "outputs": []
    },
    {
      "cell_type": "markdown",
      "metadata": {
        "id": "xbCGTgM_Tk3N"
      },
      "source": [
        "Additionally let us define oil export revenue"
      ]
    },
    {
      "cell_type": "code",
      "metadata": {
        "id": "z9kBqEtoTd3z"
      },
      "source": [
        "exportrevenue = lambda exportVolume, oilprice, USDRUB: exportVolume*oilprice*USDRUB*ton2barrel"
      ],
      "execution_count": 81,
      "outputs": []
    },
    {
      "cell_type": "markdown",
      "metadata": {
        "id": "pK3bWxFQTvEP"
      },
      "source": [
        "## Chart - Relative export revenue neutralization"
      ]
    },
    {
      "cell_type": "markdown",
      "metadata": {
        "id": "ualeMmSDT4xX"
      },
      "source": [
        "We attempt to calculate the ration of\n",
        "\n",
        "*   export revenue in USD\n",
        "*   to excess oil budget revenue = MinFin's FX purchases\n",
        "\n",
        "for an economy that \n",
        "\n",
        "*   produces 1 ton of oil, \n",
        "*   export 0.5 ton of oil \n",
        "*   and has a RUB/oil sensitivity of 0.1."
      ]
    },
    {
      "cell_type": "code",
      "metadata": {
        "id": "1GFdUizsUlhU"
      },
      "source": [
        "x = list(range(20,200,1))"
      ],
      "execution_count": 163,
      "outputs": []
    },
    {
      "cell_type": "code",
      "metadata": {
        "id": "vIlzDzHyWFNm"
      },
      "source": [
        "druboil = 0.1"
      ],
      "execution_count": 164,
      "outputs": []
    },
    {
      "cell_type": "code",
      "metadata": {
        "id": "O82FOyXxIFml"
      },
      "source": [
        "excessrevenue2 = lambda extractionVolume, exportVolume, oilprice, USDRUB: oilgasrevenue(extractionVolume, exportVolume, oilprice, USDRUB) - oilgasrevenue(\n",
        "    extractionVolume, exportVolume, baseoilprice, estUSDRUB)"
      ],
      "execution_count": 165,
      "outputs": []
    },
    {
      "cell_type": "code",
      "metadata": {
        "id": "kXFuPAyoTtAp"
      },
      "source": [
        "y = [excessrevenue(1.0, 0.75, oil, 73*(1 - druboil*(oil/oilpj - 1)))/exportrevenue(0.75, oil, 73*(1 - druboil*(oil/oilpj - 1))) for oil in x]"
      ],
      "execution_count": 169,
      "outputs": []
    },
    {
      "cell_type": "code",
      "metadata": {
        "id": "Q2P38FL0WotZ"
      },
      "source": [
        "y = [excessrevenue(1.0, 0.75, oil, 73)/exportrevenue(0.75, oil, 73) for oil in x]"
      ],
      "execution_count": 157,
      "outputs": []
    },
    {
      "cell_type": "code",
      "metadata": {
        "id": "HuUylUH9IwoH"
      },
      "source": [
        "df = pd.DataFrame(list(zip(x, y)),columns=['oil price','FX purchases, % export revenue'])"
      ],
      "execution_count": 170,
      "outputs": []
    },
    {
      "cell_type": "code",
      "metadata": {
        "colab": {
          "base_uri": "https://localhost:8080/",
          "height": 302
        },
        "id": "S6GuEV9LVnZu",
        "outputId": "c5cb4a08-37c5-4bf3-fe4a-12a03c9994e6"
      },
      "source": [
        "sns.lineplot(x = 'oil price', y = 'FX purchases, % export revenue', data=df)"
      ],
      "execution_count": 171,
      "outputs": [
        {
          "output_type": "execute_result",
          "data": {
            "text/plain": [
              "<matplotlib.axes._subplots.AxesSubplot at 0x7f662cb361d0>"
            ]
          },
          "metadata": {
            "tags": []
          },
          "execution_count": 171
        },
        {
          "output_type": "display_data",
          "data": {
            "image/png": "[encoded data removed]",
            "text/plain": [
              "<Figure size 432x288 with 1 Axes>"
            ]
          },
          "metadata": {
            "tags": []
          }
        }
      ]
    },
    {
      "cell_type": "markdown",
      "metadata": {
        "id": "0UWJHFWzYxGz"
      },
      "source": [
        "So everything checks out - MinFin's FX purchases approach 100% of oil export revenue as oil price approaches USD150/bbl."
      ]
    },
    {
      "cell_type": "code",
      "metadata": {
        "id": "jM1_zPhxN1R9"
      },
      "source": [
        "x2er = [exportrevenue(0.75, oil-40, 73*(1 - druboil*(oil/oilpj - 1)))/excessrevenue(1.0, 0.75, oil, 73*(1 - druboil*(oil/oilpj - 1))) if excessrevenue(1.0, 0.75, oil, 73*(1 - druboil*(oil/oilpj - 1))) else 0. for oil in x]"
      ],
      "execution_count": 172,
      "outputs": []
    },
    {
      "cell_type": "code",
      "metadata": {
        "id": "bMKmhybPDCuS"
      },
      "source": [
        "x2er = [exportrevenue(0.75, oil-40, 73)/excessrevenue(1.0, 0.75, oil, 73) if excessrevenue(1.0, 0.75, oil, 73) else 0. for oil in x]"
      ],
      "execution_count": 193,
      "outputs": []
    },
    {
      "cell_type": "code",
      "metadata": {
        "id": "oV2YM3IJS_ry"
      },
      "source": [
        "df = pd.DataFrame(list(zip(x, x2er)),columns=['oil price','FX purchases, % export excess revenue'])"
      ],
      "execution_count": 194,
      "outputs": []
    },
    {
      "cell_type": "code",
      "metadata": {
        "id": "K80-Cd7tTA5T",
        "outputId": "32850ee5-cd6d-4f47-f659-973351e55b03",
        "colab": {
          "base_uri": "https://localhost:8080/",
          "height": 313
        }
      },
      "source": [
        "sns.lineplot(x = 'oil price', y = 'FX purchases, % export excess revenue', data=df)"
      ],
      "execution_count": 195,
      "outputs": [
        {
          "output_type": "execute_result",
          "data": {
            "text/plain": [
              "<matplotlib.axes._subplots.AxesSubplot at 0x7f662cd41b90>"
            ]
          },
          "metadata": {
            "tags": []
          },
          "execution_count": 195
        },
        {
          "output_type": "display_data",
          "data": {
            "image/png": "[encoded data removed]",
            "text/plain": [
              "<Figure size 432x288 with 1 Axes>"
            ]
          },
          "metadata": {
            "tags": []
          }
        }
      ]
    },
    {
      "cell_type": "code",
      "metadata": {
        "id": "sz1_9b9LTide",
        "outputId": "db122908-399e-4143-8fd3-e8293dc4f9f4",
        "colab": {
          "base_uri": "https://localhost:8080/"
        }
      },
      "source": [
        "400*60*ton2barrel"
      ],
      "execution_count": 204,
      "outputs": [
        {
          "output_type": "execute_result",
          "data": {
            "text/plain": [
              "175920.0"
            ]
          },
          "metadata": {
            "tags": []
          },
          "execution_count": 204
        }
      ]
    },
    {
      "cell_type": "code",
      "metadata": {
        "id": "_8gkcxzJX4r0",
        "outputId": "8bdb42da-a3f8-428a-dadc-4f499d462e1a",
        "colab": {
          "base_uri": "https://localhost:8080/"
        }
      },
      "source": [
        "exportrevenue(350,10,73)/73."
      ],
      "execution_count": 217,
      "outputs": [
        {
          "output_type": "execute_result",
          "data": {
            "text/plain": [
              "25655.0"
            ]
          },
          "metadata": {
            "tags": []
          },
          "execution_count": 217
        }
      ]
    },
    {
      "cell_type": "code",
      "metadata": {
        "id": "dvIsqDgNDbtb",
        "outputId": "490e0a21-ca8a-495d-8a3b-f5ace3162f31",
        "colab": {
          "base_uri": "https://localhost:8080/"
        }
      },
      "source": [
        "excessrevenue(500,400,60,73)/73"
      ],
      "execution_count": 211,
      "outputs": [
        {
          "output_type": "execute_result",
          "data": {
            "text/plain": [
              "55001.72796934866"
            ]
          },
          "metadata": {
            "tags": []
          },
          "execution_count": 211
        }
      ]
    },
    {
      "cell_type": "code",
      "metadata": {
        "id": "rWIWXY9ZV1wv",
        "outputId": "55ee5bee-586b-4066-8ada-3b85261f5f57",
        "colab": {
          "base_uri": "https://localhost:8080/"
        }
      },
      "source": [
        "(oilgasrevenue(500,400,70,73)-oilgasrevenue(500,400,60,73))/73"
      ],
      "execution_count": 215,
      "outputs": [
        {
          "output_type": "execute_result",
          "data": {
            "text/plain": [
              "27500.863984674343"
            ]
          },
          "metadata": {
            "tags": []
          },
          "execution_count": 215
        }
      ]
    },
    {
      "cell_type": "code",
      "metadata": {
        "id": "470DpE4fWVBo",
        "outputId": "22cf8b5e-90e7-4301-ff59-6a5beded3d66",
        "colab": {
          "base_uri": "https://localhost:8080/"
        }
      },
      "source": [
        "25851.613984674317/36650.0"
      ],
      "execution_count": 115,
      "outputs": [
        {
          "output_type": "execute_result",
          "data": {
            "text/plain": [
              "0.7053646380538695"
            ]
          },
          "metadata": {
            "tags": []
          },
          "execution_count": 115
        }
      ]
    },
    {
      "cell_type": "code",
      "metadata": {
        "id": "ESiSANyVWfhC",
        "outputId": "15c9aa26-b824-4ff2-841b-0df9d1e40180",
        "colab": {
          "base_uri": "https://localhost:8080/"
        }
      },
      "source": [
        "(oilgasrevenue(500,200,60,73)-oilgasrevenue(500,200,50,73))/73"
      ],
      "execution_count": 192,
      "outputs": [
        {
          "output_type": "execute_result",
          "data": {
            "text/plain": [
              "25301.86398467433"
            ]
          },
          "metadata": {
            "tags": []
          },
          "execution_count": 192
        }
      ]
    },
    {
      "cell_type": "code",
      "metadata": {
        "id": "CdX2LRNOXO-h",
        "outputId": "04509218-04ca-4c3a-b76b-c3f17733cee1",
        "colab": {
          "base_uri": "https://localhost:8080/"
        }
      },
      "source": [
        "(oilgasrevenue(500,250,60,73)-oilgasrevenue(500,250,50,73))/73"
      ],
      "execution_count": 190,
      "outputs": [
        {
          "output_type": "execute_result",
          "data": {
            "text/plain": [
              "25851.613984674317"
            ]
          },
          "metadata": {
            "tags": []
          },
          "execution_count": 190
        }
      ]
    },
    {
      "cell_type": "code",
      "metadata": {
        "id": "lJ58JdtOXSNh",
        "outputId": "eb705631-d3c9-40fe-dfe1-f092d64e87f3",
        "colab": {
          "base_uri": "https://localhost:8080/"
        }
      },
      "source": [
        "excessrevenue(500,400,50,73)/73"
      ],
      "execution_count": 179,
      "outputs": [
        {
          "output_type": "execute_result",
          "data": {
            "text/plain": [
              "27500.863984674343"
            ]
          },
          "metadata": {
            "tags": []
          },
          "execution_count": 179
        }
      ]
    },
    {
      "cell_type": "code",
      "metadata": {
        "id": "k-izviQpXmby",
        "outputId": "abb191a9-2f5c-43d3-90fc-2deaec3a5da0",
        "colab": {
          "base_uri": "https://localhost:8080/"
        }
      },
      "source": [
        "400*10*ton2barrel"
      ],
      "execution_count": 178,
      "outputs": [
        {
          "output_type": "execute_result",
          "data": {
            "text/plain": [
              "29320.0"
            ]
          },
          "metadata": {
            "tags": []
          },
          "execution_count": 178
        }
      ]
    },
    {
      "cell_type": "code",
      "metadata": {
        "id": "KInStBPceSph",
        "outputId": "b5ecbd84-af6b-4fa0-e8c1-40549e5283dd",
        "colab": {
          "base_uri": "https://localhost:8080/"
        }
      },
      "source": [
        "1/0.7"
      ],
      "execution_count": 142,
      "outputs": [
        {
          "output_type": "execute_result",
          "data": {
            "text/plain": [
              "1.4285714285714286"
            ]
          },
          "metadata": {
            "tags": []
          },
          "execution_count": 142
        }
      ]
    },
    {
      "cell_type": "code",
      "metadata": {
        "id": "VlRJ6ZCSeUSq"
      },
      "source": [
        ""
      ],
      "execution_count": null,
      "outputs": []
    }
  ]
}