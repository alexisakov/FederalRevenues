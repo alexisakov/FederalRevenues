{
  "nbformat": 4,
  "nbformat_minor": 0,
  "metadata": {
    "colab": {
      "name": "HyperbolaParabola.ipynb",
      "provenance": [],
      "authorship_tag": "ABX9TyMyKU+oK668u855Z8ijfw5B",
      "include_colab_link": true
    },
    "kernelspec": {
      "name": "python3",
      "display_name": "Python 3"
    },
    "language_info": {
      "name": "python"
    }
  },
  "cells": [
    {
      "cell_type": "markdown",
      "metadata": {
        "id": "view-in-github",
        "colab_type": "text"
      },
      "source": [
        "<a href=\"https://colab.research.google.com/github/alexisakov/FederalRevenues/blob/master/HyperbolaParabola.ipynb\" target=\"_parent\"><img src=\"https://colab.research.google.com/assets/colab-badge.svg\" alt=\"Open In Colab\"/></a>"
      ]
    },
    {
      "cell_type": "markdown",
      "metadata": {
        "id": "9Rb3oX3rPCQH"
      },
      "source": [
        "# \t(Very) Technical Brief Geometry of the Fiscal Rule: Hyperbola or Parabola?\n",
        "\n"
      ]
    },
    {
      "cell_type": "markdown",
      "metadata": {
        "id": "X10nzBy0XnDU"
      },
      "source": [
        "In this online appendix we will recreate a key chart from the technical brief: the ratio of MinFin's FX purchases to oil export revenues.\n",
        "\n",
        "All calculations are done for illustrative purposes - the schematically replicate Russia's oil taxation system for an economy that produces 1 ton of oil and export 0.5 tons. "
      ]
    },
    {
      "cell_type": "markdown",
      "metadata": {
        "id": "yD4xMO5lPMOk"
      },
      "source": [
        "## Preliminaries"
      ]
    },
    {
      "cell_type": "markdown",
      "metadata": {
        "id": "_Mij2AXVYGjc"
      },
      "source": [
        "Import libs."
      ]
    },
    {
      "cell_type": "code",
      "metadata": {
        "id": "GdFQk1SCPKJx"
      },
      "source": [
        "#This uses the same mechanisms. \n",
        "%matplotlib inline\n",
        "\n",
        "import seaborn as sns\n",
        "sns.set(color_codes=True)\n",
        "import pandas as pd"
      ],
      "execution_count": 30,
      "outputs": []
    },
    {
      "cell_type": "markdown",
      "metadata": {
        "id": "jl588JHMA215"
      },
      "source": [
        "## Oil and gas export revenue"
      ]
    },
    {
      "cell_type": "markdown",
      "metadata": {
        "id": "HD5hdhFrA91x"
      },
      "source": [
        "Relationship between oil and gas exports and oil price x output is historically stable - so we can write an estimated export revenue in RUB function as follows:"
      ]
    },
    {
      "cell_type": "code",
      "metadata": {
        "id": "JSMDmdFdBUq5"
      },
      "source": [
        "m = 0.00649369 # constant\n",
        "exportrevenue = lambda extractionVolume, exportRatio, oilprice, USDRUB : (exportRatio/0.75)*m*extractionVolume*oilprice*USDRUB"
      ],
      "execution_count": 31,
      "outputs": []
    },
    {
      "cell_type": "markdown",
      "metadata": {
        "id": "GmRL5bPQB54A"
      },
      "source": [
        "*    extractionVolume - oil output (inc. condensate), mn ton\n",
        "*    exportRatio - % share of oil output exported as crude + petroleum products - 75% is a crudle proxy to historical norm\n",
        "*    oilprice - oil price, USD/bbl\n",
        "\n",
        "Sanity check: In 2020 oil output is 512 mn ton, average oil price is 42.7 - total oil and gas exports (ex. LNG) should total USD 143bn (USDRUB @ 71.9):\n"
      ]
    },
    {
      "cell_type": "code",
      "metadata": {
        "id": "Hj3Khcg1B1kL",
        "outputId": "ed8a92e7-1e0e-457c-b7c8-8413cfd8f0d9",
        "colab": {
          "base_uri": "https://localhost:8080/"
        }
      },
      "source": [
        "exportrevenue(512,0.75,42.7,71.9)/71.9 # devide by USDRUB to get bn USD"
      ],
      "execution_count": 32,
      "outputs": [
        {
          "output_type": "execute_result",
          "data": {
            "text/plain": [
              "141.96764825600002"
            ]
          },
          "metadata": {
            "tags": []
          },
          "execution_count": 32
        }
      ]
    },
    {
      "cell_type": "markdown",
      "metadata": {
        "id": "uEkX4PO9Ek4w"
      },
      "source": [
        "Good enough."
      ]
    },
    {
      "cell_type": "markdown",
      "metadata": {
        "id": "3Xf0yL7wPkS6"
      },
      "source": [
        "## Schematic oil taxation"
      ]
    },
    {
      "cell_type": "markdown",
      "metadata": {
        "id": "FzrwoiQ2YNp8"
      },
      "source": [
        "Set various constants and parameters:"
      ]
    },
    {
      "cell_type": "code",
      "metadata": {
        "id": "zJx0SZHwPBYn"
      },
      "source": [
        "baseoilprice = 40; # baseline oil price\n",
        "oilpj = 60.3; # oil price behind budget parameters // expected oil price  \n",
        "estUSDRUB = 73; # expected USDRUB\n",
        "ton2barrel = 7.33 # ton to barrel conversion factor"
      ],
      "execution_count": 33,
      "outputs": []
    },
    {
      "cell_type": "markdown",
      "metadata": {
        "id": "mefV5bRkeihi"
      },
      "source": [
        "This is toy example - does not capture true complexity of the tax scheme and loosely approximates 2020 parameters - which are themselves drifting."
      ]
    },
    {
      "cell_type": "markdown",
      "metadata": {
        "id": "ggUU-zJwP1SX"
      },
      "source": [
        "### MET"
      ]
    },
    {
      "cell_type": "markdown",
      "metadata": {
        "id": "csXyDUxgYktC"
      },
      "source": [
        "Mineral extraction tax:"
      ]
    },
    {
      "cell_type": "code",
      "metadata": {
        "id": "lHHvUrhuKBCm"
      },
      "source": [
        "METBaseRate = 919; \n",
        "METKk = 428;\n",
        "METKkorr = 0.33;"
      ],
      "execution_count": 82,
      "outputs": []
    },
    {
      "cell_type": "code",
      "metadata": {
        "id": "CeD5nh2CP0Xm"
      },
      "source": [
        "Кц = lambda oilprice, USDRUB :(oilprice - 15) * USDRUB/261"
      ],
      "execution_count": 83,
      "outputs": []
    },
    {
      "cell_type": "code",
      "metadata": {
        "id": "C6LzIm0ZQRtB"
      },
      "source": [
        "METPart1 = lambda oilprice, USDRUB: METBaseRate* Кц(oilprice, USDRUB)"
      ],
      "execution_count": 84,
      "outputs": []
    },
    {
      "cell_type": "code",
      "metadata": {
        "id": "rUmp96CcQghd"
      },
      "source": [
        "def ЭП(oilprice):\n",
        "  if oilprice < 109.5/ton2barrel:\n",
        "    return 0,\n",
        "  elif oilprice < 146/ton2barrel:\n",
        "    return 0.35*(oilprice*ton2barrel - 109.5)\n",
        "  elif oilprice < 182.5/ton2barrel:\n",
        "    return 12.78 + 0.45*(oilprice*ton2barrel - 146)\n",
        "  else:\n",
        "    return 29.2 + 0.3*(oilprice*ton2barrel - 182.3)"
      ],
      "execution_count": 85,
      "outputs": []
    },
    {
      "cell_type": "code",
      "metadata": {
        "id": "rZySWQ-HQ5yc"
      },
      "source": [
        "Кман = lambda oilprice, USDRUB : ЭП(oilprice)*USDRUB*METKkorr"
      ],
      "execution_count": 86,
      "outputs": []
    },
    {
      "cell_type": "code",
      "metadata": {
        "id": "TJ5_Eb78RFBq"
      },
      "source": [
        "Дм = lambda oilprice, USDRUB : METKk - Кман(oilprice, USDRUB)"
      ],
      "execution_count": 87,
      "outputs": []
    },
    {
      "cell_type": "code",
      "metadata": {
        "id": "agzWZg81KJrQ"
      },
      "source": [
        "METTheory = lambda extractionVolume, oilprice, USDRUB: extractionVolume*(METPart1(oilprice, USDRUB) - Дм(oilprice, USDRUB))"
      ],
      "execution_count": 88,
      "outputs": []
    },
    {
      "cell_type": "markdown",
      "metadata": {
        "id": "k8J4ggKvKN1v"
      },
      "source": [
        "Effective MET collection:"
      ]
    },
    {
      "cell_type": "code",
      "metadata": {
        "id": "QfH5RF2IRUi4"
      },
      "source": [
        "METCollectionRate = 0.90;\n",
        "MET = lambda extractionVolume, oilprice, USDRUB : METCollectionRate*METTheory(extractionVolume, oilprice, USDRUB) / 1000"
      ],
      "execution_count": 89,
      "outputs": []
    },
    {
      "cell_type": "markdown",
      "metadata": {
        "id": "f0toj5c8LQ2f"
      },
      "source": [
        "Sanity check: MET corresponding to 2020 oil output (MET is paid with 1 month shift, so this total is for Feb'20-Jan'21) - should be RUB 3766bn:"
      ]
    },
    {
      "cell_type": "code",
      "metadata": {
        "id": "uUSbzpPwKer2",
        "outputId": "c8a18a73-ebea-498f-e07f-a4e00baeef10",
        "colab": {
          "base_uri": "https://localhost:8080/"
        }
      },
      "source": [
        "MET(512,42.7,71.9)"
      ],
      "execution_count": 90,
      "outputs": [
        {
          "output_type": "execute_result",
          "data": {
            "text/plain": [
              "3782.142361340647"
            ]
          },
          "metadata": {
            "tags": []
          },
          "execution_count": 90
        }
      ]
    },
    {
      "cell_type": "markdown",
      "metadata": {
        "id": "0baGAkfGLlqn"
      },
      "source": [
        "Good enough."
      ]
    },
    {
      "cell_type": "markdown",
      "metadata": {
        "id": "3tcogGQYRff_"
      },
      "source": [
        "### Export duty"
      ]
    },
    {
      "cell_type": "markdown",
      "metadata": {
        "id": "9z_ZpYcoYood"
      },
      "source": [
        "Export duty parameters:"
      ]
    },
    {
      "cell_type": "code",
      "metadata": {
        "id": "F3Jy0zUpRb57"
      },
      "source": [
        "EDKkorr = 0.67;\n",
        "EDuty = 0.3;"
      ],
      "execution_count": 91,
      "outputs": []
    },
    {
      "cell_type": "code",
      "metadata": {
        "id": "GCmjmdEORjCb"
      },
      "source": [
        "edRate = lambda oilprice, USDRUB : (29.2 + EDuty*(oilprice*ton2barrel - 182.5))*USDRUB*EDKkorr"
      ],
      "execution_count": 92,
      "outputs": []
    },
    {
      "cell_type": "code",
      "metadata": {
        "id": "ZAsgK3DORsf1"
      },
      "source": [
        "EDTheory = lambda extractionVolume, exportRatio, oilprice, USDRUB : extractionVolume*exportRatio*edRate(oilprice, USDRUB)"
      ],
      "execution_count": 93,
      "outputs": []
    },
    {
      "cell_type": "code",
      "metadata": {
        "id": "QPayI5X8cEBy"
      },
      "source": [
        "EDCollectionRate = 0.80;\n",
        "ED = lambda extractionVolume, exportRatio, oilprice, USDRUB : EDCollectionRate*EDTheory(extractionVolume, exportRatio, oilprice, USDRUB) / 1000"
      ],
      "execution_count": 94,
      "outputs": []
    },
    {
      "cell_type": "markdown",
      "metadata": {
        "id": "Q5VEfI5QeKuJ"
      },
      "source": [
        "Sanity check, should be RUB 1148bn"
      ]
    },
    {
      "cell_type": "code",
      "metadata": {
        "id": "ZlrPUcRKcD-s",
        "outputId": "4b8eb1fb-7b24-4602-b876-25f860515c21",
        "colab": {
          "base_uri": "https://localhost:8080/"
        }
      },
      "source": [
        "ED(512, 0.75, 42.7,71.9)"
      ],
      "execution_count": 95,
      "outputs": [
        {
          "output_type": "execute_result",
          "data": {
            "text/plain": [
              "1011.4543051468801"
            ]
          },
          "metadata": {
            "tags": []
          },
          "execution_count": 95
        }
      ]
    },
    {
      "cell_type": "markdown",
      "metadata": {
        "id": "ZzzkdswHeRiP"
      },
      "source": [
        "Good enough."
      ]
    },
    {
      "cell_type": "markdown",
      "metadata": {
        "id": "v9uw4tbDe2Ta"
      },
      "source": [
        "### Gather taxes"
      ]
    },
    {
      "cell_type": "code",
      "metadata": {
        "id": "rcSFU53Fe9xO"
      },
      "source": [
        "oilgasrevenue = lambda extractionVolume, exportRatio, oilprice, USDRUB : MET(extractionVolume, oilprice, USDRUB) + ED(extractionVolume,exportRatio,oilprice, USDRUB)"
      ],
      "execution_count": 96,
      "outputs": []
    },
    {
      "cell_type": "markdown",
      "metadata": {
        "id": "5H-gYSekS6nD"
      },
      "source": [
        "### Oil taxation under Fiscal rule: Base and Excess Revenues"
      ]
    },
    {
      "cell_type": "markdown",
      "metadata": {
        "id": "eECOx5r0Yq5A"
      },
      "source": [
        "Total oil budget revenue is a total of MET and ED:"
      ]
    },
    {
      "cell_type": "markdown",
      "metadata": {
        "id": "VN6Ng3xlTOey"
      },
      "source": [
        "Now we can define excess revenu (=FX purchases) as follows:"
      ]
    },
    {
      "cell_type": "code",
      "metadata": {
        "id": "rt_D_EccTMzw"
      },
      "source": [
        "excessrevenue = lambda extractionVolume, exportRatio, oilprice, USDRUB: oilgasrevenue(extractionVolume, exportRatio, oilprice, USDRUB) - oilgasrevenue(\n",
        "    extractionVolume, exportRatio, baseoilprice, USDRUB)"
      ],
      "execution_count": 97,
      "outputs": []
    },
    {
      "cell_type": "markdown",
      "metadata": {
        "id": "pK3bWxFQTvEP"
      },
      "source": [
        "## Chart - Relative export revenue neutralization"
      ]
    },
    {
      "cell_type": "markdown",
      "metadata": {
        "id": "ualeMmSDT4xX"
      },
      "source": [
        "We attempt to calculate the ration of\n",
        "\n",
        "*   export revenue in USD\n",
        "*   to excess oil budget revenue = MinFin's FX purchases\n",
        "\n",
        "for an economy that \n",
        "\n",
        "*   produces 1 ton of oil, \n",
        "*   export 0.5 ton of oil \n",
        "*   and has a RUB/oil sensitivity of 0.1."
      ]
    },
    {
      "cell_type": "code",
      "metadata": {
        "id": "1GFdUizsUlhU"
      },
      "source": [
        "x = list(range(20,200,1))"
      ],
      "execution_count": 98,
      "outputs": []
    },
    {
      "cell_type": "code",
      "metadata": {
        "id": "vIlzDzHyWFNm"
      },
      "source": [
        "druboil = 0.07"
      ],
      "execution_count": 99,
      "outputs": []
    },
    {
      "cell_type": "code",
      "metadata": {
        "id": "kXFuPAyoTtAp"
      },
      "source": [
        "y = [excessrevenue(1.0, 0.75, oil, 73*(1 - druboil*(oil/oilpj - 1)))/exportrevenue(1.0, 0.75, oil, 73*(1 - druboil*(oil/oilpj - 1))) for oil in x]"
      ],
      "execution_count": 106,
      "outputs": []
    },
    {
      "cell_type": "code",
      "metadata": {
        "id": "HuUylUH9IwoH"
      },
      "source": [
        "df = pd.DataFrame(list(zip(x, y)),columns=['oil price','FX purchases, % export revenue'])"
      ],
      "execution_count": 107,
      "outputs": []
    },
    {
      "cell_type": "code",
      "metadata": {
        "colab": {
          "base_uri": "https://localhost:8080/",
          "height": 303
        },
        "id": "S6GuEV9LVnZu",
        "outputId": "07b7987d-8008-4a50-e8bc-a81fe5f4bc05"
      },
      "source": [
        "sns.lineplot(x = 'oil price', y = 'FX purchases, % export revenue', data=df)"
      ],
      "execution_count": 108,
      "outputs": [
        {
          "output_type": "execute_result",
          "data": {
            "text/plain": [
              "<matplotlib.axes._subplots.AxesSubplot at 0x7f2eb04b58d0>"
            ]
          },
          "metadata": {
            "tags": []
          },
          "execution_count": 108
        },
        {
          "output_type": "display_data",
          "data": {
            "image/png": "[encoded data removed]",
            "text/plain": [
              "<Figure size 432x288 with 1 Axes>"
            ]
          },
          "metadata": {
            "tags": []
          }
        }
      ]
    },
    {
      "cell_type": "markdown",
      "metadata": {
        "id": "0UWJHFWzYxGz"
      },
      "source": [
        "So everything checks out - MinFin's FX purchases approach 100% of oil export revenue as oil price approaches USD150/bbl."
      ]
    },
    {
      "cell_type": "code",
      "metadata": {
        "id": "jM1_zPhxN1R9"
      },
      "source": [
        "x2er = [excessrevenue(1.0, 0.75, oil, 73*(1 - druboil*(oil/oilpj - 1))) / exportrevenue(1.0, 0.75, oil-40, 73*(1 - druboil*(oil/oilpj - 1))) if exportrevenue(1.0, 0.75, oil-40, 73*(1 - druboil*(oil/oilpj - 1))) else 0. for oil in x]"
      ],
      "execution_count": 113,
      "outputs": []
    },
    {
      "cell_type": "code",
      "metadata": {
        "id": "oV2YM3IJS_ry"
      },
      "source": [
        "df = pd.DataFrame(list(zip(x, x2er)),columns=['oil price','FX purchases, % export excess revenue'])"
      ],
      "execution_count": 114,
      "outputs": []
    },
    {
      "cell_type": "code",
      "metadata": {
        "colab": {
          "base_uri": "https://localhost:8080/",
          "height": 315
        },
        "id": "K80-Cd7tTA5T",
        "outputId": "c2b184a4-0a3e-4225-947e-7196099bb097"
      },
      "source": [
        "sns.lineplot(x = 'oil price', y = 'FX purchases, % export excess revenue', data=df)"
      ],
      "execution_count": 115,
      "outputs": [
        {
          "output_type": "execute_result",
          "data": {
            "text/plain": [
              "<matplotlib.axes._subplots.AxesSubplot at 0x7f2eaf458f10>"
            ]
          },
          "metadata": {
            "tags": []
          },
          "execution_count": 115
        },
        {
          "output_type": "display_data",
          "data": {
            "image/png": "[encoded data removed]",
            "text/plain": [
              "<Figure size 432x288 with 1 Axes>"
            ]
          },
          "metadata": {
            "tags": []
          }
        }
      ]
    },
    {
      "cell_type": "code",
      "metadata": {
        "colab": {
          "base_uri": "https://localhost:8080/"
        },
        "id": "470DpE4fWVBo",
        "outputId": "22cf8b5e-90e7-4301-ff59-6a5beded3d66"
      },
      "source": [
        "25851.613984674317/36650.0"
      ],
      "execution_count": null,
      "outputs": [
        {
          "output_type": "execute_result",
          "data": {
            "text/plain": [
              "0.7053646380538695"
            ]
          },
          "metadata": {
            "tags": []
          },
          "execution_count": 115
        }
      ]
    },
    {
      "cell_type": "code",
      "metadata": {
        "colab": {
          "base_uri": "https://localhost:8080/"
        },
        "id": "ESiSANyVWfhC",
        "outputId": "723e3645-153b-48f2-cd28-e0069dc5a432"
      },
      "source": [
        "(oilgasrevenue(500,0.75,60,73)-oilgasrevenue(500,0.75,50,73))/73"
      ],
      "execution_count": 118,
      "outputs": [
        {
          "output_type": "execute_result",
          "data": {
            "text/plain": [
              "23.530332586206896"
            ]
          },
          "metadata": {
            "tags": []
          },
          "execution_count": 118
        }
      ]
    },
    {
      "cell_type": "code",
      "metadata": {
        "colab": {
          "base_uri": "https://localhost:8080/"
        },
        "id": "CdX2LRNOXO-h",
        "outputId": "10443660-014e-4eaf-fe1a-5f72cdd31119"
      },
      "source": [
        "(exportrevenue(500, 0.75, 60, 73)-exportrevenue(500, 0.75, 50, 73))/73"
      ],
      "execution_count": 119,
      "outputs": [
        {
          "output_type": "execute_result",
          "data": {
            "text/plain": [
              "32.468449999999976"
            ]
          },
          "metadata": {
            "tags": []
          },
          "execution_count": 119
        }
      ]
    }
  ]
}